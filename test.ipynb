{
 "cells": [
  {
   "cell_type": "code",
   "execution_count": 6,
   "outputs": [
    {
     "name": "stdout",
     "output_type": "stream",
     "text": [
      "cuda\n"
     ]
    },
    {
     "name": "stderr",
     "output_type": "stream",
     "text": [
      "c:\\python38\\lib\\site-packages\\torch\\nn\\modules\\transformer.py:282: UserWarning: enable_nested_tensor is True, but self.use_nested_tensor is False because encoder_layer.self_attn.batch_first was not True(use batch_first for better inference performance)\n",
      "  warnings.warn(f\"enable_nested_tensor is True, but self.use_nested_tensor is False because {why_not_sparsity_fast_path}\")\n"
     ]
    },
    {
     "name": "stdout",
     "output_type": "stream",
     "text": [
      "TransformerModel(\n",
      "  (pos_encoder): PositionalEncoding(\n",
      "    (dropout): Dropout(p=0.1, inplace=False)\n",
      "  )\n",
      "  (encoder_layer): TransformerEncoderLayer(\n",
      "    (self_attn): MultiheadAttention(\n",
      "      (out_proj): NonDynamicallyQuantizableLinear(in_features=512, out_features=512, bias=True)\n",
      "    )\n",
      "    (linear1): Linear(in_features=512, out_features=2048, bias=True)\n",
      "    (dropout): Dropout(p=0.1, inplace=False)\n",
      "    (linear2): Linear(in_features=2048, out_features=512, bias=True)\n",
      "    (norm1): LayerNorm((512,), eps=1e-05, elementwise_affine=True)\n",
      "    (norm2): LayerNorm((512,), eps=1e-05, elementwise_affine=True)\n",
      "    (dropout1): Dropout(p=0.1, inplace=False)\n",
      "    (dropout2): Dropout(p=0.1, inplace=False)\n",
      "  )\n",
      "  (transformer_encoder): TransformerEncoder(\n",
      "    (layers): ModuleList(\n",
      "      (0-1): 2 x TransformerEncoderLayer(\n",
      "        (self_attn): MultiheadAttention(\n",
      "          (out_proj): NonDynamicallyQuantizableLinear(in_features=512, out_features=512, bias=True)\n",
      "        )\n",
      "        (linear1): Linear(in_features=512, out_features=2048, bias=True)\n",
      "        (dropout): Dropout(p=0.1, inplace=False)\n",
      "        (linear2): Linear(in_features=2048, out_features=512, bias=True)\n",
      "        (norm1): LayerNorm((512,), eps=1e-05, elementwise_affine=True)\n",
      "        (norm2): LayerNorm((512,), eps=1e-05, elementwise_affine=True)\n",
      "        (dropout1): Dropout(p=0.1, inplace=False)\n",
      "        (dropout2): Dropout(p=0.1, inplace=False)\n",
      "      )\n",
      "    )\n",
      "  )\n",
      "  (encoder): Embedding(10, 512)\n",
      "  (decoder): Linear(in_features=512, out_features=10, bias=True)\n",
      ")\n"
     ]
    },
    {
     "name": "stderr",
     "output_type": "stream",
     "text": [
      "epoch:0,data_shape:torch.Size([558, 26]), loss:3.568249225616455: 100%|██████████| 434/434 [00:19<00:00, 21.95it/s]  \n",
      "epoch:1,data_shape:torch.Size([558, 26]), loss:3.395655870437622: 100%|██████████| 434/434 [00:14<00:00, 29.14it/s]  \n",
      "epoch:2,data_shape:torch.Size([558, 26]), loss:3.1846160888671875: 100%|██████████| 434/434 [00:15<00:00, 28.93it/s]\n",
      "epoch:3,data_shape:torch.Size([558, 26]), loss:3.442042112350464: 100%|██████████| 434/434 [00:15<00:00, 28.06it/s]  \n",
      "epoch:4,data_shape:torch.Size([558, 26]), loss:2.98675274848938: 100%|██████████| 434/434 [00:14<00:00, 29.81it/s]   \n",
      "epoch:5,data_shape:torch.Size([558, 26]), loss:3.100175619125366: 100%|██████████| 434/434 [00:14<00:00, 30.00it/s]  \n",
      "epoch:6,data_shape:torch.Size([558, 26]), loss:3.374992609024048: 100%|██████████| 434/434 [00:14<00:00, 29.66it/s]  \n",
      "epoch:7,data_shape:torch.Size([558, 26]), loss:3.2770583629608154: 100%|██████████| 434/434 [00:14<00:00, 29.69it/s] \n",
      "epoch:8,data_shape:torch.Size([558, 26]), loss:3.2970242500305176: 100%|██████████| 434/434 [00:14<00:00, 29.81it/s] \n",
      "epoch:9,data_shape:torch.Size([558, 26]), loss:3.14310884475708: 100%|██████████| 434/434 [00:14<00:00, 29.37it/s]   \n"
     ]
    }
   ],
   "source": [
    "import torch\n",
    "import torch.nn as nn\n",
    "from torch.utils.data import DataLoader, TensorDataset\n",
    "from sklearn.model_selection import train_test_split\n",
    "import new.data as data\n",
    "import new.model_fit_data as model\n",
    "\n",
    "import tqdm\n",
    "\n",
    "\n",
    "\n",
    "\n",
    "\n",
    "\n"
   ],
   "metadata": {
    "collapsed": false,
    "ExecuteTime": {
     "end_time": "2024-02-26T08:56:00.850136600Z",
     "start_time": "2024-02-26T08:53:23.433680Z"
    }
   },
   "id": "b1eee271a2ea91b7"
  }
 ],
 "metadata": {
  "kernelspec": {
   "display_name": "Python 3",
   "language": "python",
   "name": "python3"
  },
  "language_info": {
   "codemirror_mode": {
    "name": "ipython",
    "version": 2
   },
   "file_extension": ".py",
   "mimetype": "text/x-python",
   "name": "python",
   "nbconvert_exporter": "python",
   "pygments_lexer": "ipython2",
   "version": "2.7.6"
  }
 },
 "nbformat": 4,
 "nbformat_minor": 5
}
